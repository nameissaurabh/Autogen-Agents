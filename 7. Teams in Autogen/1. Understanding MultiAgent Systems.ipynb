{
 "cells": [
  {
   "cell_type": "markdown",
   "id": "35d48bdc",
   "metadata": {},
   "source": [
    "## Explore : Multi Agent-Systems in Auto-gen"
   ]
  },
  {
   "cell_type": "markdown",
   "id": "6123894b",
   "metadata": {},
   "source": [
    " A team is a group of agents that work together to achieve a common goal"
   ]
  },
  {
   "cell_type": "code",
   "execution_count": 1,
   "id": "47eaa3db",
   "metadata": {},
   "outputs": [],
   "source": [
    "# Necessary imports and setup\n",
    "import asyncio\n",
    "from autogen_ext.models.openai import OpenAIChatCompletionClient\n",
    "from dotenv import load_dotenv\n",
    "import os\n",
    "\n",
    "load_dotenv()\n",
    "api_key = os.getenv('GEMINI_API_KEY')\n",
    "model_client = OpenAIChatCompletionClient(model = 'gemini-2.0-flash',\n",
    "                                          api_key = api_key)"
   ]
  },
  {
   "cell_type": "markdown",
   "id": "7cdaec8a",
   "metadata": {},
   "source": [
    "## 1. Single Agent Approach\n",
    "\n",
    "A single agent is going to create a short story about a given topic"
   ]
  },
  {
   "cell_type": "code",
   "execution_count": 2,
   "id": "90b874ec",
   "metadata": {},
   "outputs": [],
   "source": [
    "from autogen_agentchat.agents import AssistantAgent\n",
    "# define a story agent\n",
    "story_agent = AssistantAgent(\n",
    "    name = 'story_agent',\n",
    "    model_client = model_client,\n",
    "    system_message = 'You are a creating writer. Generate a short story about the given topic.'\n",
    ")"
   ]
  },
  {
   "cell_type": "code",
   "execution_count": 3,
   "id": "fadbb7bf",
   "metadata": {},
   "outputs": [
    {
     "name": "stdout",
     "output_type": "stream",
     "text": [
      "Ethan, a college introvert, found solace in books and coding. One night, a meteor shower bestowed him with telekinetic powers. He became \"Page Turner,\" anonymously rescuing people, always retreating to his quiet dorm, a hero hidden in plain sight, his secret safe within the pages of his books.\n",
      "\n"
     ]
    }
   ],
   "source": [
    "from autogen_agentchat.messages import TextMessage\n",
    "# create a task for the agent\n",
    "async def test_simple_agent():\n",
    "    task = TextMessage(\n",
    "        content = 'Write a short story about a college introvert boy as main superhero character.' \\\n",
    "                  'Keep it up to 50 words.',\n",
    "        source = 'user'\n",
    "    )\n",
    "    result = await story_agent.run(task=task)\n",
    "    print(result.messages[-1].content)\n",
    "\n",
    "await test_simple_agent()"
   ]
  },
  {
   "cell_type": "markdown",
   "id": "1c17beaa",
   "metadata": {},
   "source": [
    "Ethan, a college introvert, found solace in books and coding. One night, a meteor shower bestowed him with telekinetic powers. He became \"Page Turner,\" anonymously rescuing people, always retreating to his quiet dorm, a hero hidden in plain sight, his secret safe within the pages of his books.\n"
   ]
  },
  {
   "cell_type": "markdown",
   "id": "235151ab",
   "metadata": {},
   "source": [
    "## 2. Multi Agent Team Approach\n",
    "\n",
    "let's uses multiple agents to now write the story, each with its own work and mastery"
   ]
  },
  {
   "cell_type": "code",
   "execution_count": 4,
   "id": "12a01d27",
   "metadata": {},
   "outputs": [],
   "source": [
    "plot_agent = AssistantAgent(\n",
    "    name = 'plot_writer',\n",
    "    model_client = model_client,\n",
    "    system_message = \"You create engaging plots for stories.\"\n",
    ")\n",
    "\n",
    "character_agent = AssistantAgent(\n",
    "    name = 'character_writer',\n",
    "    model_client = model_client,\n",
    "    system_message = \"You develop characters. Create interesting main characters with depth and background.\"\n",
    ")\n",
    "\n",
    "ending_agent = AssistantAgent(\n",
    "    name = 'ending_writer',\n",
    "    model_client = model_client,\n",
    "    system_message = \"You wrute engaging endings. conclude the story with a twist.\"\n",
    ")\n"
   ]
  },
  {
   "cell_type": "markdown",
   "id": "193ff520",
   "metadata": {},
   "source": [
    "RoundRobinGroupChat is a simple yet effective team configuration where all agents share the same context and take turns responding in a round-robin fashion. Each agent, during its turn, broadcasts its response to all other agents, ensuring that the entire team maintains a consistent context."
   ]
  },
  {
   "cell_type": "code",
   "execution_count": 5,
   "id": "1d07b002",
   "metadata": {},
   "outputs": [
    {
     "data": {
      "text/plain": [
       "'team'"
      ]
     },
     "execution_count": 5,
     "metadata": {},
     "output_type": "execute_result"
    }
   ],
   "source": [
    "from autogen_agentchat.teams import RoundRobinGroupChat\n",
    "# create a team with the agents\n",
    "team = RoundRobinGroupChat(\n",
    "    participants= [plot_agent, character_agent, ending_agent],\n",
    "    max_turns = 6\n",
    ")\n",
    "team.component_type"
   ]
  },
  {
   "cell_type": "code",
   "execution_count": 6,
   "id": "e29888a9",
   "metadata": {},
   "outputs": [
    {
     "name": "stdout",
     "output_type": "stream",
     "text": [
      "user : Write a short story a brave boy and his Pokemon. Keep it up to 50 words\n",
      "plot_writer : Toby, small but brave, clutched his partner, a fiery Charmander named Cinder. A shadowy figure loomed, stealing Pokemon. Toby, despite his fear, stepped forward. \"Give them back!\" Cinder roared, flames erupting. The thief faltered. Toby, with Cinder's help, rescued the stolen Pokemon, a true hero.\n",
      "\n",
      "character_writer : Okay, I can do that. Here's a short story about a brave boy and his Pokemon:\n",
      "\n",
      "Finnigan, freckled and timid, adored his timid Poliwag, Wiggles. A bully cornered them, demanding Wiggles. Finnigan, heart pounding, refused. \"He's my friend!\" Wiggles, sensing Finnigan's resolve, unleashed a surprisingly strong Water Gun. The bully fled, and Finnigan, emboldened, hugged Wiggles tight.\n",
      "\n",
      "ending_writer : Okay, I can do that. Here's a short story about a brave boy and his Pokemon:\n",
      "\n",
      "Toby, small but brave, clutched his partner, a fiery Charmander named Cinder. A shadowy figure loomed, stealing Pokemon. Toby, despite his fear, stepped forward. \"Give them back!\" Cinder roared, flames erupting. The thief faltered. Toby, with Cinder's help, rescued the stolen Pokemon, a true hero. But the shadowy figure merely chuckled, removing their mask, revealing... Toby's future self, warning him of a darker path ahead.\n",
      "\n",
      "plot_writer : That's a great twist! Here's another take, playing on that darker path theme, also under 50 words:\n",
      "\n",
      "Toby, once brave, now colder, stood with his Charizard, Cinder. He commanded Cinder to attack a defenseless trainer, stealing their Pokemon. A small voice cried out, \"Stop!\" Toby turned, seeing a younger version of himself, hand outstretched to a timid Charmander. Regret flickered. Was he already too far gone?\n",
      "\n",
      "character_writer : That's powerful! Here's one building on *your* darker path theme, keeping it under 50 words:\n",
      "\n",
      "Toby, his face scarred, and his Charizard, Cinder, stood victorious over fallen trainers. \"Power,\" Toby rasped, clutching a stolen badge. Cinder nudged him, a flicker of warmth in his eyes. Toby shoved him away. \"Don't you understand? We *need* this.\" A tear traced a path through the grime on his cheek.\n",
      "\n",
      "ending_writer : That's fantastic! Okay, here's one continuing *your* version, under 50 words:\n",
      "\n",
      "Toby, adorned with stolen badges, faced his reflection. A ghost of the brave boy remained, horrified. Cinder nuzzled him, whimpering. Toby saw the fear in his partner's eyes. He ripped off the badges, dropping them. \"I... I can't,\" he choked, collapsing, Cinder's warmth the only comfort in the gathering dark.\n",
      "\n"
     ]
    }
   ],
   "source": [
    "async def test_team():\n",
    "    task = TextMessage(\n",
    "        content = 'Write a short story a brave boy and his Pokemon. Keep it up to 50 words',\n",
    "        source = 'user'\n",
    "    )\n",
    "\n",
    "    result = await team.run(task = task)\n",
    "    for each_agent_message in result.messages:\n",
    "        print(f'{each_agent_message.source} : {each_agent_message.content}')\n",
    "        \n",
    "await test_team()"
   ]
  },
  {
   "cell_type": "markdown",
   "id": "edacc58f",
   "metadata": {},
   "source": [
    "user : Write a short story a brave boy and his Pokemon. Keep it up to 50 words  \n",
    "\n",
    "--------------------------------------------------------------------------------------------------------------------  \n",
    "plot_writer : Toby, small but brave, clutched his partner, a fiery Charmander named Cinder. A shadowy figure loomed, stealing Pokemon. Toby, despite his fear, stepped forward. \"Give them back!\" Cinder roared, flames erupting. The thief faltered. Toby, with Cinder's help, rescued the stolen Pokemon, a true hero.\n",
    "\n",
    "character_writer : Okay, I can do that. Here's a short story about a brave boy and his Pokemon:\n",
    "\n",
    "Finnigan, freckled and timid, adored his timid Poliwag, Wiggles. A bully cornered them, demanding Wiggles. Finnigan, heart pounding, refused. \"He's my friend!\" Wiggles, sensing Finnigan's resolve, unleashed a surprisingly strong Water Gun. The bully fled, and Finnigan, emboldened, hugged Wiggles tight.\n",
    "\n",
    "ending_writer : Okay, I can do that. Here's a short story about a brave boy and his Pokemon:\n",
    "\n",
    "Toby, small but brave, clutched his partner, a fiery Charmander named Cinder. A shadowy figure loomed, stealing Pokemon. Toby, despite his fear, stepped forward. \"Give them back!\" Cinder roared, flames erupting. The thief faltered. Toby, with Cinder's help, rescued the stolen Pokemon, a true hero. But the shadowy figure merely chuckled, removing their mask, revealing... Toby's future self, warning him of a darker path ahead.  \n",
    "\n",
    "--------------------------------------------------------------------------------------------------------------------  \n",
    "plot_writer : That's a great twist! Here's another take, playing on that darker path theme, also under 50 words:\n",
    "\n",
    "Toby, once brave, now colder, stood with his Charizard, Cinder. He commanded Cinder to attack a defenseless trainer, stealing their Pokemon. A small voice cried out, \"Stop!\" Toby turned, seeing a younger version of himself, hand outstretched to a timid Charmander. Regret flickered. Was he already too far gone?\n",
    "\n",
    "character_writer : That's powerful! Here's one building on *your* darker path theme, keeping it under 50 words:\n",
    "\n",
    "Toby, his face scarred, and his Charizard, Cinder, stood victorious over fallen trainers. \"Power,\" Toby rasped, clutching a stolen badge. Cinder nudged him, a flicker of warmth in his eyes. Toby shoved him away. \"Don't you understand? We *need* this.\" A tear traced a path through the grime on his cheek.\n",
    "\n",
    "ending_writer : That's fantastic! Okay, here's one continuing *your* version, under 50 words:\n",
    "\n",
    "Toby, adorned with stolen badges, faced his reflection. A ghost of the brave boy remained, horrified. Cinder nuzzled him, whimpering. Toby saw the fear in his partner's eyes. He ripped off the badges, dropping them. \"I... I can't,\" he choked, collapsing, Cinder's warmth the only comfort in the gathering dark.\n"
   ]
  },
  {
   "cell_type": "markdown",
   "id": "2d0cd8b2",
   "metadata": {},
   "source": [
    "### Comparision Table [Single V/S Multi Agents]"
   ]
  },
  {
   "cell_type": "markdown",
   "id": "d721cc13",
   "metadata": {},
   "source": [
    "#### Single-Agent vs. Multi-Agent Comparison\n",
    "\n",
    "| Aspect             | Single Agent                | Multi-Agent Team              |\n",
    "|--------------------|-----------------------------|-------------------------------|\n",
    "| **Creativity**     | Limited to one viewpoint    | Diverse ideas from each agent |\n",
    "| **Depth**          | Basic story elements        | Detailed plot, characters, ending |\n",
    "| **Flexibility**    | Stuck to one style          | Adaptable with specialized roles |\n",
    "| **Setup Effort**   | Simple, one agent           | More agents, team setup       |"
   ]
  },
  {
   "cell_type": "markdown",
   "id": "39ae6fa6",
   "metadata": {},
   "source": [
    "## Using Task Result\n",
    "\n",
    "In Autogen AgentChat, tasks are usually units of work you give to an AI agent (like answer this question, run this code, fetch data).  \n",
    "  \n",
    "1. When the task finishes, the framework wraps the outcome in a TaskResult object.  \n",
    "  \n",
    "2. That object standardizes what the result looks like, instead of just returning a raw string or dict.  \n",
    "  \n",
    "While exact fields depend on the version of autogen, a TaskResult usually includes:  \n",
    "  \n",
    "content → the actual answer or output of the task (text, JSON, etc.).  \n",
    "  \n",
    "success (or similar flag) → whether the task completed successfully.  \n",
    "  \n",
    "metadata → extra info like execution time, cost, or trace details.  "
   ]
  },
  {
   "cell_type": "code",
   "execution_count": 7,
   "id": "1500f66a",
   "metadata": {},
   "outputs": [
    {
     "name": "stdout",
     "output_type": "stream",
     "text": [
      "id='ab06bfed-5315-49d1-918e-033bd2a42b51' source='user' models_usage=None metadata={} created_at=datetime.datetime(2025, 8, 31, 12, 41, 5, 910266, tzinfo=datetime.timezone.utc) content='Write a short poem about the fall season.' type='TextMessage'\n",
      "id='382f1784-8876-468f-8e2c-b60222536458' source='plot_writer' models_usage=RequestUsage(prompt_tokens=16, completion_tokens=74) metadata={} created_at=datetime.datetime(2025, 8, 31, 12, 41, 8, 513511, tzinfo=datetime.timezone.utc) content=\"The air grows crisp, a whispered chill,\\nLeaves dance and twirl upon the hill.\\nGold, crimson, amber, brown,\\nA fiery carpet drifting down.\\n\\nThe sun hangs low, a gentle grace,\\nAs summer yields to autumn's space.\\nA time for harvest, stories told,\\nBefore the winter's icy hold.\\n\" type='TextMessage'\n",
      "id='f1b29d14-a9d9-4f15-9be0-7fa4f5b32666' source='character_writer' models_usage=RequestUsage(prompt_tokens=96, completion_tokens=442) metadata={} created_at=datetime.datetime(2025, 8, 31, 12, 41, 11, 849142, tzinfo=datetime.timezone.utc) content=\"Okay, I can help you with that. Let's create some interesting main characters with depth and background. To do that effectively, I need a little more direction.  Tell me:\\n\\n**1. What genre are we working in?** (Fantasy, Sci-Fi, Romance, Mystery, Historical Fiction, Contemporary, etc.) This will drastically influence the types of characters that will be appropriate.\\n\\n**2. What's the *general* premise of the story?**  (A young woman inherits a bakery, a detective investigates a murder, a group of teens discovers a portal to another dimension, etc.)  Even a vague idea helps.\\n\\n**3. Are there any specific character *archetypes* you're interested in?** (e.g., a reluctant hero, a wise mentor, a charming rogue, a misunderstood outcast, etc.)  We can twist these, but it's a good starting point.\\n\\n**4. Are there any *specific needs* for the character?** (e.g., the character *must* be a scientist, the character *must* have a physical disability, the character *must* be incredibly wealthy, etc.)\\n\\n**5.  What kind of *tone* are we aiming for?** (Lighthearted, serious, gritty, whimsical, etc.) This affects the character's personality and worldview.\\n\\nOnce I have this information, I can generate some compelling character concepts for you! I can give you details like:\\n\\n*   **Name:** (Or a few name options)\\n*   **Age:** (Approximate is fine)\\n*   **Occupation/Role:** (What they do, or what their position is in the story)\\n*   **Brief Backstory:** (Key events that shaped them)\\n*   **Personality:** (Strengths, weaknesses, quirks, motivations)\\n*   **Internal Conflict:** (The central struggle they face within themselves)\\n*   **External Conflict:** (The challenges they face in the world)\\n*   **Appearance:** (Brief description)\\n\\nI look forward to hearing more so I can help you bring your characters to life!\\n\" type='TextMessage'\n",
      "id='5c3f84d7-2048-4cab-888c-63d9f780a8be' source='ending_writer' models_usage=RequestUsage(prompt_tokens=538, completion_tokens=198) metadata={} created_at=datetime.datetime(2025, 8, 31, 12, 41, 13, 920154, tzinfo=datetime.timezone.utc) content=\"Okay, great! Let's go with:\\n\\n1.  **Genre:** Fantasy\\n2.  **Premise:** A disgraced knight, stripped of his title and exiled, discovers an ancient artifact that could restore his honor, but using it requires him to team up with the very creatures he used to hunt: monsters.\\n3.  **Archetype:** Reluctant Hero, but with a heavy dose of cynicism and a strong sense of personal honor (even if it's skewed).\\n4.  **Specific Need:** The knight *must* be exceptionally skilled in combat, but haunted by a past failure that led to his disgrace. He *must also* have a very specific, deeply held code of ethics that he struggles to reconcile with the morally grey choices he now faces.\\n5.  **Tone:** Gritty, with moments of dark humor. The world is harsh, and the characters are flawed, but there's still a glimmer of hope.\\n\" type='TextMessage'\n",
      "id='b530940b-b05e-463d-bc93-9c5c32b9de13' source='plot_writer' models_usage=RequestUsage(prompt_tokens=730, completion_tokens=1027) metadata={} created_at=datetime.datetime(2025, 8, 31, 12, 41, 21, 398449, tzinfo=datetime.timezone.utc) content='Alright, let\\'s forge this disgraced knight! Here\\'s a character concept based on your specifications:\\n\\n**Name:** Sir Kaelen \"Ashborn\" Vane (The \"Ashborn\" is a mocking epithet given to him after his disgrace)\\n\\n**Age:** 38\\n\\n**Occupation/Role:** Exiled Knight; Reluctant Monster Alliance Leader\\n\\n**Brief Backstory:** Kaelen was once a celebrated knight, renowned for his skill and unwavering adherence to the Knightly Code. However, during a crucial battle against a horde of monstrous creatures, he made a strategic error (perhaps prioritizing saving civilians over achieving a total victory) that resulted in a devastating loss. He was blamed for the defeat, stripped of his title and lands, and exiled from the kingdom. The moniker \"Ashborn\" refers to the ashes of the village that burned because of his decision. He\\'s spent the last few years wandering the wilderness, a shadow of his former self, eking out a living as a sellsword and haunted by the faces of those he failed to protect.\\n\\n**Personality:**\\n\\n*   **Strengths:** Exceptionally skilled swordsman and strategist. Possesses immense willpower and a strong sense of duty, even though it\\'s warped and twisted by guilt and cynicism. Resourceful and adaptable, able to survive in harsh conditions. Still fiercely protective of the innocent, despite his disillusionment.\\n*   **Weaknesses:** Deeply cynical and distrustful, making it difficult for him to form genuine connections. Prone to self-destructive behavior as a form of penance. Haunted by nightmares and flashbacks. Carries a heavy burden of guilt and shame, leading him to underestimate his own worth. His code of honor is both his greatest strength and his biggest flaw, often leading him to make difficult choices that others see as foolish.\\n*   **Quirks:** Has a habit of muttering battle strategies to himself. Drinks heavily, but never enough to become truly incapacitated. Obsessively cleans and maintains his worn-out sword, a relic from his former life.\\n*   **Motivations:** Initially, his only motivation is survival and a desperate desire to find some semblance of meaning in his exile. The discovery of the artifact and the possibility of redemption slowly rekindles a flicker of hope within him, but he remains wary of allowing himself to believe in it fully. He wants to reclaim his honor, but perhaps more importantly, he wants to prove to himself that he isn\\'t the failure everyone believes him to be.\\n\\n**Internal Conflict:** Kaelen struggles to reconcile his deeply ingrained code of honor with the morally ambiguous choices he must make to achieve his goals. He believes he is unworthy of redemption and constantly questions his own judgment, leading to internal turmoil and self-doubt. Can he trust the monsters he\\'s working with, even if they offer him a path to redemption? Can he compromise his values for the greater good, even if it means becoming the kind of person he despises?\\n\\n**External Conflict:** Besides the obvious conflict with those who oppose the use of the artifact, Kaelen also faces:\\n\\n*   **The Monsters:** Gaining the trust and cooperation of the monsters, who have their own agendas and distrust of humans, is a constant struggle.\\n*   **His Past:** The people he wronged in the past (or who believe he wronged them) are still out there, and some may seek revenge.\\n*   **The Artifact:** The artifact itself may have unforeseen consequences and hidden dangers.\\n*    **The Kingdom:** The kingdom he once served may see him as a threat if he succeeds in using the artifact, leading to further conflict.\\n\\n**Appearance:** Kaelen is a weathered and scarred man, his face etched with the lines of hardship and regret. He\\'s tall and muscular, bearing the physique of a seasoned warrior, though his posture is often stooped with exhaustion. His dark hair is streaked with gray and kept short for practicality. His eyes, once bright with conviction, are now guarded and haunted. He wears patched and travel-stained leather armor, a far cry from the polished steel he once donned. His most prized possession is his sword, a masterfully crafted blade that shows signs of heavy use but is still meticulously maintained.\\n\\n**Possible Plot Points stemming from this Character:**\\n\\n*   Kaelen must learn to trust the monsters, even when they challenge his beliefs and force him to confront his own prejudices.\\n*   He could be forced to make a morally compromising decision that saves lives but further stains his reputation.\\n*   A figure from his past, either a former ally or a vengeful enemy, could reappear and force him to confront the consequences of his actions.\\n*   He might discover that the \"strategic error\" he made was actually a deliberate act of sabotage by someone higher up, adding a layer of political intrigue.\\n\\nI think this gives you a solid foundation for a compelling and complex protagonist. Let me know if you want me to elaborate on any of these aspects or explore different directions!\\n' type='TextMessage'\n",
      "id='9a7ce89a-aa0c-4505-8452-94f5d413827c' source='character_writer' models_usage=RequestUsage(prompt_tokens=1763, completion_tokens=87) metadata={} created_at=datetime.datetime(2025, 8, 31, 12, 41, 22, 930983, tzinfo=datetime.timezone.utc) content=\"This is great. Let's elaborate on the artifact.\\n\\n1.  What is it exactly? (e.g., a weapon, a source of magic, a key, etc.)\\n2.  What are its known properties or abilities?\\n3.  What are its potential drawbacks or dangers?\\n4.  Why would monsters be interested in it?\\n5.  How does Kaelen discover it?\\n\" type='TextMessage'\n",
      "id='9911e83d-0f05-4e4e-8b67-c778ca673680' source='ending_writer' models_usage=RequestUsage(prompt_tokens=1850, completion_tokens=1078) metadata={} created_at=datetime.datetime(2025, 8, 31, 12, 41, 31, 124372, tzinfo=datetime.timezone.utc) content='Okay, let\\'s delve into the mysteries of the artifact!\\n\\n**1. What is it exactly?**\\n\\nThe artifact is known as the **\"Heartstone of Convergence.\"** It\\'s not a weapon in the traditional sense, nor is it a simple source of magic. It\\'s more accurately described as a conduit, a key, and a focusing lens all in one. It\\'s a fist-sized, irregularly shaped stone that pulses with a faint, internal light – the color of which shifts subtly depending on its surroundings and the emotions of those nearby. The stone is cool to the touch, almost unnaturally so.\\n\\n**2. What are its known properties or abilities?**\\n\\n*   **Monster Empathy/Communication:** The Heartstone allows the wielder to understand and communicate with monstrous creatures on a deeper level. It bypasses the barriers of language and instinct, granting insight into their thoughts, emotions, and motivations. This isn\\'t mind control, but rather a form of profound empathy that allows for genuine dialogue and negotiation.\\n*   **Harmonization:** The Heartstone can be used to harmonize different types of magical energies, potentially stabilizing volatile magical areas or neutralizing harmful magical effects. This ability is poorly understood, but legends speak of it being able to quell magical storms and heal blighted lands.\\n*   **Limited Foresight (with a caveat):** When in contact with a powerful magical creature, the Heartstone can grant the wielder brief glimpses into the future, but these visions are fragmented, symbolic, and highly subjective. The visions are more akin to feelings and impressions than clear prophecies, making them difficult to interpret.\\n*   **Potential Amplification:** Some believe that the Heartstone can amplify the wielder\\'s own innate magical abilities, though this has never been reliably demonstrated.\\n\\n**3. What are its potential drawbacks or dangers?**\\n\\n*   **Emotional Overload:** Prolonged use of the Heartstone, especially when communicating with multiple or highly emotional monsters, can overwhelm the wielder\\'s mind, leading to mental fatigue, emotional instability, and even temporary madness.\\n*   **The Monster\\'s Perspective:** Using the Heartstone forces the wielder to see the world from the monster\\'s perspective, which can be deeply unsettling and challenge their preconceived notions about good and evil. This can lead to a crisis of conscience and a blurring of moral lines.\\n*   **Attraction of Unwanted Attention:** The Heartstone emits a subtle magical resonance that can attract the attention of powerful magical creatures, both benevolent and malevolent.\\n*   **Corruption:** If used improperly, or by someone with malicious intent, the Heartstone can become corrupted, twisting its abilities and amplifying negative emotions. A corrupted Heartstone could potentially turn monsters against each other or against humanity.\\n*   **Addiction:** The empathy it provides can be addictive, creating a dependency in the wielder to experience these connections.\\n\\n**4. Why would monsters be interested in it?**\\n\\n*   **Reclamation:** Some monsters may see the Heartstone as rightfully belonging to them, a relic of a time when humans and monsters coexisted peacefully. They may want to reclaim it to restore balance to the world or to protect themselves from human aggression.\\n*   **Communication with Each Other:** The Heartstone could allow different monster species, who are often territorial and hostile towards each other, to communicate and cooperate for mutual benefit.\\n*   **Defense:** The harmonization ability could be used to neutralize magical threats to their territories or to heal blighted lands that they depend on for survival.\\n*   **Understanding Humans:** Some monsters might seek to understand humans better, hoping to find a way to coexist peacefully or to anticipate human attacks.\\n*   **Exploitation:** Of course, some monsters might want to exploit the Heartstone\\'s power for their own selfish purposes, such as domination or revenge.\\n\\n**5. How does Kaelen discover it?**\\n\\nKaelen stumbles upon the Heartstone while sheltering from a blizzard in a forgotten, crumbling shrine dedicated to a long-lost nature god. The shrine is located deep within a monster-infested region that he was foolishly traversing, seeking a quick route to his mercenary destination. He initially mistakes the stone for a worthless trinket, but when a wounded monstrous wolf attacks him within the shrine, he instinctively grabs the stone.\\n\\nAs he holds the Heartstone, he\\'s flooded with the wolf\\'s pain, fear, and desperate hunger. He understands that the wolf isn\\'t attacking out of malice, but out of desperation for food. For the first time in years, Kaelen feels something other than bitterness and despair. He uses the Heartstone to communicate his intentions to the wolf, offering it a portion of his meager rations. The wolf, surprised by his empathy, accepts the offering and retreats into the blizzard. This encounter, and the realization of the Heartstone\\'s power, sets Kaelen on a new and unexpected path. He realizes this artifact might be his chance to do something truly meaningful and atone for his past failures, even if it means allying himself with the creatures he once swore to destroy.\\n\\nThis discovery marks the true beginning of Kaelen\\'s journey! What happens next?\\n' type='TextMessage'\n",
      "Stop Reason: Maximum number of turns 6 reached.\n"
     ]
    }
   ],
   "source": [
    "from autogen_agentchat.base import TaskResult\n",
    "\n",
    "# When running inside a script, use a async main function and call it from `asyncio.run(...)`.\n",
    "await team.reset()  # Reset the team for a new task.\n",
    "async for message in team.run_stream(task = \"Write a short poem about the fall season.\"):  # type: ignore\n",
    "    if isinstance(message, TaskResult):\n",
    "        print(\"Stop Reason:\", message.stop_reason)\n",
    "    else:\n",
    "        print(message)"
   ]
  },
  {
   "cell_type": "code",
   "execution_count": 8,
   "id": "e48953d5",
   "metadata": {},
   "outputs": [],
   "source": [
    "from autogen_agentchat.teams import RoundRobinGroupChat\n",
    "\n",
    "team2 = RoundRobinGroupChat(\n",
    "    participants= [plot_agent],\n",
    "    max_turns = 2\n",
    ")"
   ]
  },
  {
   "cell_type": "code",
   "execution_count": 9,
   "id": "4c6055e4",
   "metadata": {},
   "outputs": [
    {
     "name": "stdout",
     "output_type": "stream",
     "text": [
      "id='a8422f78-65c0-47ee-9c85-c39e01c43d6c' source='user' models_usage=None metadata={} created_at=datetime.datetime(2025, 8, 31, 12, 46, 41, 495616, tzinfo=datetime.timezone.utc) content='Write a short poem about the fall season.' type='TextMessage'\n",
      "id='09879a5d-b73c-43ab-b911-36d0295c78b1' source='plot_writer' models_usage=RequestUsage(prompt_tokens=16, completion_tokens=92) metadata={} created_at=datetime.datetime(2025, 8, 31, 12, 46, 42, 754213, tzinfo=datetime.timezone.utc) content=\"Okay, here's a short poem about the fall season:\\n\\nThe air grows crisp, a golden haze,\\nWhere summer's green now softly sways.\\nLeaves dance and twirl, a fiery show,\\nIn hues of red and amber glow.\\n\\nThe wind whispers secrets through the trees,\\nA gentle promise of winter's ease.\\nPumpkins gleam, a harvest bright,\\nAs days grow short and stars ignite.\\n\" type='TextMessage'\n",
      "id='a1994fb1-34ae-4910-b91b-db977167fbab' source='plot_writer' models_usage=RequestUsage(prompt_tokens=108, completion_tokens=0) metadata={} created_at=datetime.datetime(2025, 8, 31, 12, 46, 43, 516135, tzinfo=datetime.timezone.utc) content='' type='TextMessage'\n",
      "Stop Reason: Maximum number of turns 2 reached.\n"
     ]
    }
   ],
   "source": [
    "from autogen_agentchat.base import TaskResult\n",
    "\n",
    "# When running inside a script, use a async main function and call it from `asyncio.run(...)`.\n",
    "await team2.reset()  # Reset the team for a new task.\n",
    "async for message in team2.run_stream(task = \"Write a short poem about the fall season.\"):  # type: ignore\n",
    "    if isinstance(message, TaskResult):\n",
    "        print(\"Stop Reason:\", message.stop_reason)\n",
    "    else:\n",
    "        print(message)"
   ]
  },
  {
   "cell_type": "code",
   "execution_count": 10,
   "id": "ca4115ae",
   "metadata": {},
   "outputs": [
    {
     "data": {
      "text/plain": [
       "TaskResult(messages=[TextMessage(id='a8422f78-65c0-47ee-9c85-c39e01c43d6c', source='user', models_usage=None, metadata={}, created_at=datetime.datetime(2025, 8, 31, 12, 46, 41, 495616, tzinfo=datetime.timezone.utc), content='Write a short poem about the fall season.', type='TextMessage'), TextMessage(id='09879a5d-b73c-43ab-b911-36d0295c78b1', source='plot_writer', models_usage=RequestUsage(prompt_tokens=16, completion_tokens=92), metadata={}, created_at=datetime.datetime(2025, 8, 31, 12, 46, 42, 754213, tzinfo=datetime.timezone.utc), content=\"Okay, here's a short poem about the fall season:\\n\\nThe air grows crisp, a golden haze,\\nWhere summer's green now softly sways.\\nLeaves dance and twirl, a fiery show,\\nIn hues of red and amber glow.\\n\\nThe wind whispers secrets through the trees,\\nA gentle promise of winter's ease.\\nPumpkins gleam, a harvest bright,\\nAs days grow short and stars ignite.\\n\", type='TextMessage'), TextMessage(id='a1994fb1-34ae-4910-b91b-db977167fbab', source='plot_writer', models_usage=RequestUsage(prompt_tokens=108, completion_tokens=0), metadata={}, created_at=datetime.datetime(2025, 8, 31, 12, 46, 43, 516135, tzinfo=datetime.timezone.utc), content='', type='TextMessage')], stop_reason='Maximum number of turns 2 reached.')"
      ]
     },
     "execution_count": 10,
     "metadata": {},
     "output_type": "execute_result"
    }
   ],
   "source": [
    "message"
   ]
  },
  {
   "cell_type": "code",
   "execution_count": 15,
   "id": "846488b5",
   "metadata": {},
   "outputs": [],
   "source": [
    "from autogen_agentchat.teams import RoundRobinGroupChat\n",
    "\n",
    "team3 = RoundRobinGroupChat(\n",
    "    participants= [plot_agent],\n",
    "    # max_turns=2\n",
    ")"
   ]
  },
  {
   "cell_type": "code",
   "execution_count": null,
   "id": "53d22100",
   "metadata": {},
   "outputs": [
    {
     "name": "stdout",
     "output_type": "stream",
     "text": [
      "source='user' models_usage=None metadata={} created_at=datetime.datetime(2025, 6, 19, 19, 9, 18, 365921, tzinfo=datetime.timezone.utc) content='Write a short poem about the fall season.' type='TextMessage'\n",
      "source='plot_writer' models_usage=RequestUsage(prompt_tokens=34, completion_tokens=103) metadata={} created_at=datetime.datetime(2025, 6, 19, 19, 9, 21, 780708, tzinfo=datetime.timezone.utc) content=\"Leaves of amber gently fall,  \\nDancing to the autumn's call.  \\nWhispers of the cooling breeze,  \\nWeaving through the golden trees.\\n\\nPumpkins gleam in sunset hues,  \\nBeneath a sky of deeper blues.  \\nSweaters warm against the chill,  \\nAs twilight wraps the quiet hill.\\n\\nCrisp and sweet, the air does beam,  \\nPainting worlds that softly dream.  \\nIn fall's embrace, nature's art,  \\nA season's song within the heart.  \" type='TextMessage'\n",
      "source='plot_writer' models_usage=RequestUsage(prompt_tokens=141, completion_tokens=1) metadata={} created_at=datetime.datetime(2025, 6, 19, 19, 9, 22, 717590, tzinfo=datetime.timezone.utc) content='\\n' type='TextMessage'\n",
      "source='plot_writer' models_usage=RequestUsage(prompt_tokens=146, completion_tokens=507) metadata={} created_at=datetime.datetime(2025, 6, 19, 19, 9, 34, 385709, tzinfo=datetime.timezone.utc) content=\"In a quaint town nestled between rolling hills and serene meadows, there resided a young Pokémon named Rietan, an inquisitive grass-type creature resembling a sprightly autumn leaf. Rietan had always admired the vibrant fall season with its blaze of colors and the crispness in the air that sang a different song each day.\\n\\nOne day, a mysterious letter arrived at Rietan's doorstep, sealed with an emblem depicting falling leaves. It spoke of the legendary Forest of Eterna - a mystical grove said to hide ancient secrets about the harmony between seasons. Legends whispered that whoever discovered these secrets would gain profound wisdom and the ability to help the world confront environmental changes.\\n\\nDespite being young and not yet evolved, Rietan’s curiosity and determination were boundless. With the arrival of the letter, something stirred within the young Pokémon. This journey promised discoveries that could not only transform its understanding of the world but also help protect its home from unpredictable climate shifts affecting the natural balance. \\n\\nRietan embarked on this vital journey at the break of dawn, the sun dipping the forest's floor in shades of gold. Along the way, Rietan faced numerous challenges: swift rivers to cross, ancient puzzles within the ruins of sunlit groves, and encounters with other Pokémon who both challenged and aided it. Each trial taught Rietan a lesson—patience from the weaving streams, courage from the solemn ruins, and empathy from its interactions with Pokémon who had their own stories and wisdom to share.\\n\\nAs the days passed, Rietan's resilience and understanding of nature deepened, enabling it to forge new connections with various Pokémon allies, including Ember the fiery Vulpix and Nimbus the gentle Drifloon, who lent their skills and companionship.\\n\\nEventually, Rietan reached the heart of the Forest of Eterna, where the leaves glowed with an ethereal light, unveiling the ancient secret: a hidden grove where seasons harmonized, showing that change and continuity could coexist beautifully. Drifting spirits of mythical Pokémon who once tended to the seasons revealed themselves, imparting knowledge that Rietan must share with the world.\\n\\nReturning home, Rietan was no longer the same timid leaf that left. It carried the wisdom of the seasons in its heart, ready to nurture its beloved town through the challenging changes ahead and maybe, someday, evolve into a wise figure among its peers.\\n\\nRietan's adventure had been more than a quest; it was a journey towards understanding the delicate balance of life—a balance where every whisper of autumn wind carried stories of transformations yet to come.\" type='TextMessage'\n",
      "source='plot_writer' models_usage=RequestUsage(prompt_tokens=657, completion_tokens=348) metadata={} created_at=datetime.datetime(2025, 6, 19, 19, 9, 40, 719265, tzinfo=datetime.timezone.utc) content=\"The journey had awakened a powerful sense of purpose in Rietan, initiating its evolution from a mere observer of nature’s cycles to a protector and teacher of the wisdom it had gathered. Inspired by the harmonious vision of the Forest of Eterna, Rietan committed itself to educating other Pokémon and the townspeople about the importance of preserving the delicate interplay of each season. It organized community gatherings where stories of its adventures were shared, captivating the listeners and encouraging them to appreciate and safeguard their environment.\\n\\nAccompanied by Ember, Nimbus, and newfound allies, Rietan began implementing small but impactful projects like reforestation and sustainable resource use within its community. Together, they planted trees that, like Rietan, aspired to grow tall and wise, providing shelter and sustenance to generations of Pokémon to come. These efforts slowly transformed the town into a haven where every resident, whether it walked, flew, or slithered, thrived in harmony with the natural shifts of the world around them.\\n\\nThe groves and meadows started to echo with the symphony of seasons, their orchestration forever shaped by Rietan’s vision. As the leaves turned once more, this time there was a touch of something new in the air—hope. The legacy of Rietan's journey lay not only in the myths it unraveled but in the actions it inspired, guiding its world towards a future where every fall whispered of renewal and every spring sang of resilience.\\n\\nIn time, Rietan became a respected elder within its community, embodying the very essence of autumn—change, wisdom, and the beauty of letting go to embrace new beginnings. The Pokémon’s journey had come full circle, imprinting on its world a story as enduring as the seasons themselves.\" type='TextMessage'\n",
      "source='plot_writer' models_usage=RequestUsage(prompt_tokens=1009, completion_tokens=348) metadata={} created_at=datetime.datetime(2025, 6, 19, 19, 9, 43, 898669, tzinfo=datetime.timezone.utc) content=\"The journey had awakened a powerful sense of purpose in Rietan, initiating its evolution from a mere observer of nature’s cycles to a protector and teacher of the wisdom it had gathered. Inspired by the harmonious vision of the Forest of Eterna, Rietan committed itself to educating other Pokémon and the townspeople about the importance of preserving the delicate interplay of each season. It organized community gatherings where stories of its adventures were shared, captivating the listeners and encouraging them to appreciate and safeguard their environment.\\n\\nAccompanied by Ember, Nimbus, and newfound allies, Rietan began implementing small but impactful projects like reforestation and sustainable resource use within its community. Together, they planted trees that, like Rietan, aspired to grow tall and wise, providing shelter and sustenance to generations of Pokémon to come. These efforts slowly transformed the town into a haven where every resident, whether it walked, flew, or slithered, thrived in harmony with the natural shifts of the world around them.\\n\\nThe groves and meadows started to echo with the symphony of seasons, their orchestration forever shaped by Rietan’s vision. As the leaves turned once more, this time there was a touch of something new in the air—hope. The legacy of Rietan's journey lay not only in the myths it unraveled but in the actions it inspired, guiding its world towards a future where every fall whispered of renewal and every spring sang of resilience.\\n\\nIn time, Rietan became a respected elder within its community, embodying the very essence of autumn—change, wisdom, and the beauty of letting go to embrace new beginnings. The Pokémon’s journey had come full circle, imprinting on its world a story as enduring as the seasons themselves.\" type='TextMessage'\n",
      "source='plot_writer' models_usage=RequestUsage(prompt_tokens=1361, completion_tokens=348) metadata={} created_at=datetime.datetime(2025, 6, 19, 19, 9, 46, 383950, tzinfo=datetime.timezone.utc) content=\"The journey had awakened a powerful sense of purpose in Rietan, initiating its evolution from a mere observer of nature’s cycles to a protector and teacher of the wisdom it had gathered. Inspired by the harmonious vision of the Forest of Eterna, Rietan committed itself to educating other Pokémon and the townspeople about the importance of preserving the delicate interplay of each season. It organized community gatherings where stories of its adventures were shared, captivating the listeners and encouraging them to appreciate and safeguard their environment.\\n\\nAccompanied by Ember, Nimbus, and newfound allies, Rietan began implementing small but impactful projects like reforestation and sustainable resource use within its community. Together, they planted trees that, like Rietan, aspired to grow tall and wise, providing shelter and sustenance to generations of Pokémon to come. These efforts slowly transformed the town into a haven where every resident, whether it walked, flew, or slithered, thrived in harmony with the natural shifts of the world around them.\\n\\nThe groves and meadows started to echo with the symphony of seasons, their orchestration forever shaped by Rietan’s vision. As the leaves turned once more, this time there was a touch of something new in the air—hope. The legacy of Rietan's journey lay not only in the myths it unraveled but in the actions it inspired, guiding its world towards a future where every fall whispered of renewal and every spring sang of resilience.\\n\\nIn time, Rietan became a respected elder within its community, embodying the very essence of autumn—change, wisdom, and the beauty of letting go to embrace new beginnings. The Pokémon’s journey had come full circle, imprinting on its world a story as enduring as the seasons themselves.\" type='TextMessage'\n",
      "source='plot_writer' models_usage=RequestUsage(prompt_tokens=1713, completion_tokens=348) metadata={} created_at=datetime.datetime(2025, 6, 19, 19, 9, 49, 598062, tzinfo=datetime.timezone.utc) content=\"The journey had awakened a powerful sense of purpose in Rietan, initiating its evolution from a mere observer of nature’s cycles to a protector and teacher of the wisdom it had gathered. Inspired by the harmonious vision of the Forest of Eterna, Rietan committed itself to educating other Pokémon and the townspeople about the importance of preserving the delicate interplay of each season. It organized community gatherings where stories of its adventures were shared, captivating the listeners and encouraging them to appreciate and safeguard their environment.\\n\\nAccompanied by Ember, Nimbus, and newfound allies, Rietan began implementing small but impactful projects like reforestation and sustainable resource use within its community. Together, they planted trees that, like Rietan, aspired to grow tall and wise, providing shelter and sustenance to generations of Pokémon to come. These efforts slowly transformed the town into a haven where every resident, whether it walked, flew, or slithered, thrived in harmony with the natural shifts of the world around them.\\n\\nThe groves and meadows started to echo with the symphony of seasons, their orchestration forever shaped by Rietan’s vision. As the leaves turned once more, this time there was a touch of something new in the air—hope. The legacy of Rietan's journey lay not only in the myths it unraveled but in the actions it inspired, guiding its world towards a future where every fall whispered of renewal and every spring sang of resilience.\\n\\nIn time, Rietan became a respected elder within its community, embodying the very essence of autumn—change, wisdom, and the beauty of letting go to embrace new beginnings. The Pokémon’s journey had come full circle, imprinting on its world a story as enduring as the seasons themselves.\" type='TextMessage'\n",
      "source='plot_writer' models_usage=RequestUsage(prompt_tokens=2065, completion_tokens=348) metadata={} created_at=datetime.datetime(2025, 6, 19, 19, 9, 52, 194432, tzinfo=datetime.timezone.utc) content=\"The journey had awakened a powerful sense of purpose in Rietan, initiating its evolution from a mere observer of nature’s cycles to a protector and teacher of the wisdom it had gathered. Inspired by the harmonious vision of the Forest of Eterna, Rietan committed itself to educating other Pokémon and the townspeople about the importance of preserving the delicate interplay of each season. It organized community gatherings where stories of its adventures were shared, captivating the listeners and encouraging them to appreciate and safeguard their environment.\\n\\nAccompanied by Ember, Nimbus, and newfound allies, Rietan began implementing small but impactful projects like reforestation and sustainable resource use within its community. Together, they planted trees that, like Rietan, aspired to grow tall and wise, providing shelter and sustenance to generations of Pokémon to come. These efforts slowly transformed the town into a haven where every resident, whether it walked, flew, or slithered, thrived in harmony with the natural shifts of the world around them.\\n\\nThe groves and meadows started to echo with the symphony of seasons, their orchestration forever shaped by Rietan’s vision. As the leaves turned once more, this time there was a touch of something new in the air—hope. The legacy of Rietan's journey lay not only in the myths it unraveled but in the actions it inspired, guiding its world towards a future where every fall whispered of renewal and every spring sang of resilience.\\n\\nIn time, Rietan became a respected elder within its community, embodying the very essence of autumn—change, wisdom, and the beauty of letting go to embrace new beginnings. The Pokémon’s journey had come full circle, imprinting on its world a story as enduring as the seasons themselves.\" type='TextMessage'\n",
      "source='plot_writer' models_usage=RequestUsage(prompt_tokens=2417, completion_tokens=348) metadata={} created_at=datetime.datetime(2025, 6, 19, 19, 9, 55, 497975, tzinfo=datetime.timezone.utc) content=\"The journey had awakened a powerful sense of purpose in Rietan, initiating its evolution from a mere observer of nature’s cycles to a protector and teacher of the wisdom it had gathered. Inspired by the harmonious vision of the Forest of Eterna, Rietan committed itself to educating other Pokémon and the townspeople about the importance of preserving the delicate interplay of each season. It organized community gatherings where stories of its adventures were shared, captivating the listeners and encouraging them to appreciate and safeguard their environment.\\n\\nAccompanied by Ember, Nimbus, and newfound allies, Rietan began implementing small but impactful projects like reforestation and sustainable resource use within its community. Together, they planted trees that, like Rietan, aspired to grow tall and wise, providing shelter and sustenance to generations of Pokémon to come. These efforts slowly transformed the town into a haven where every resident, whether it walked, flew, or slithered, thrived in harmony with the natural shifts of the world around them.\\n\\nThe groves and meadows started to echo with the symphony of seasons, their orchestration forever shaped by Rietan’s vision. As the leaves turned once more, this time there was a touch of something new in the air—hope. The legacy of Rietan's journey lay not only in the myths it unraveled but in the actions it inspired, guiding its world towards a future where every fall whispered of renewal and every spring sang of resilience.\\n\\nIn time, Rietan became a respected elder within its community, embodying the very essence of autumn—change, wisdom, and the beauty of letting go to embrace new beginnings. The Pokémon’s journey had come full circle, imprinting on its world a story as enduring as the seasons themselves.\" type='TextMessage'\n",
      "source='plot_writer' models_usage=RequestUsage(prompt_tokens=2769, completion_tokens=348) metadata={} created_at=datetime.datetime(2025, 6, 19, 19, 9, 57, 907957, tzinfo=datetime.timezone.utc) content=\"The journey had awakened a powerful sense of purpose in Rietan, initiating its evolution from a mere observer of nature’s cycles to a protector and teacher of the wisdom it had gathered. Inspired by the harmonious vision of the Forest of Eterna, Rietan committed itself to educating other Pokémon and the townspeople about the importance of preserving the delicate interplay of each season. It organized community gatherings where stories of its adventures were shared, captivating the listeners and encouraging them to appreciate and safeguard their environment.\\n\\nAccompanied by Ember, Nimbus, and newfound allies, Rietan began implementing small but impactful projects like reforestation and sustainable resource use within its community. Together, they planted trees that, like Rietan, aspired to grow tall and wise, providing shelter and sustenance to generations of Pokémon to come. These efforts slowly transformed the town into a haven where every resident, whether it walked, flew, or slithered, thrived in harmony with the natural shifts of the world around them.\\n\\nThe groves and meadows started to echo with the symphony of seasons, their orchestration forever shaped by Rietan’s vision. As the leaves turned once more, this time there was a touch of something new in the air—hope. The legacy of Rietan's journey lay not only in the myths it unraveled but in the actions it inspired, guiding its world towards a future where every fall whispered of renewal and every spring sang of resilience.\\n\\nIn time, Rietan became a respected elder within its community, embodying the very essence of autumn—change, wisdom, and the beauty of letting go to embrace new beginnings. The Pokémon’s journey had come full circle, imprinting on its world a story as enduring as the seasons themselves.\" type='TextMessage'\n",
      "source='plot_writer' models_usage=RequestUsage(prompt_tokens=3121, completion_tokens=348) metadata={} created_at=datetime.datetime(2025, 6, 19, 19, 10, 2, 944746, tzinfo=datetime.timezone.utc) content=\"The journey had awakened a powerful sense of purpose in Rietan, initiating its evolution from a mere observer of nature’s cycles to a protector and teacher of the wisdom it had gathered. Inspired by the harmonious vision of the Forest of Eterna, Rietan committed itself to educating other Pokémon and the townspeople about the importance of preserving the delicate interplay of each season. It organized community gatherings where stories of its adventures were shared, captivating the listeners and encouraging them to appreciate and safeguard their environment.\\n\\nAccompanied by Ember, Nimbus, and newfound allies, Rietan began implementing small but impactful projects like reforestation and sustainable resource use within its community. Together, they planted trees that, like Rietan, aspired to grow tall and wise, providing shelter and sustenance to generations of Pokémon to come. These efforts slowly transformed the town into a haven where every resident, whether it walked, flew, or slithered, thrived in harmony with the natural shifts of the world around them.\\n\\nThe groves and meadows started to echo with the symphony of seasons, their orchestration forever shaped by Rietan’s vision. As the leaves turned once more, this time there was a touch of something new in the air—hope. The legacy of Rietan's journey lay not only in the myths it unraveled but in the actions it inspired, guiding its world towards a future where every fall whispered of renewal and every spring sang of resilience.\\n\\nIn time, Rietan became a respected elder within its community, embodying the very essence of autumn—change, wisdom, and the beauty of letting go to embrace new beginnings. The Pokémon’s journey had come full circle, imprinting on its world a story as enduring as the seasons themselves.\" type='TextMessage'\n",
      "source='plot_writer' models_usage=RequestUsage(prompt_tokens=3473, completion_tokens=348) metadata={} created_at=datetime.datetime(2025, 6, 19, 19, 10, 5, 723569, tzinfo=datetime.timezone.utc) content=\"The journey had awakened a powerful sense of purpose in Rietan, initiating its evolution from a mere observer of nature’s cycles to a protector and teacher of the wisdom it had gathered. Inspired by the harmonious vision of the Forest of Eterna, Rietan committed itself to educating other Pokémon and the townspeople about the importance of preserving the delicate interplay of each season. It organized community gatherings where stories of its adventures were shared, captivating the listeners and encouraging them to appreciate and safeguard their environment.\\n\\nAccompanied by Ember, Nimbus, and newfound allies, Rietan began implementing small but impactful projects like reforestation and sustainable resource use within its community. Together, they planted trees that, like Rietan, aspired to grow tall and wise, providing shelter and sustenance to generations of Pokémon to come. These efforts slowly transformed the town into a haven where every resident, whether it walked, flew, or slithered, thrived in harmony with the natural shifts of the world around them.\\n\\nThe groves and meadows started to echo with the symphony of seasons, their orchestration forever shaped by Rietan’s vision. As the leaves turned once more, this time there was a touch of something new in the air—hope. The legacy of Rietan's journey lay not only in the myths it unraveled but in the actions it inspired, guiding its world towards a future where every fall whispered of renewal and every spring sang of resilience.\\n\\nIn time, Rietan became a respected elder within its community, embodying the very essence of autumn—change, wisdom, and the beauty of letting go to embrace new beginnings. The Pokémon’s journey had come full circle, imprinting on its world a story as enduring as the seasons themselves.\" type='TextMessage'\n",
      "source='plot_writer' models_usage=RequestUsage(prompt_tokens=3825, completion_tokens=348) metadata={} created_at=datetime.datetime(2025, 6, 19, 19, 10, 9, 454482, tzinfo=datetime.timezone.utc) content=\"The journey had awakened a powerful sense of purpose in Rietan, initiating its evolution from a mere observer of nature’s cycles to a protector and teacher of the wisdom it had gathered. Inspired by the harmonious vision of the Forest of Eterna, Rietan committed itself to educating other Pokémon and the townspeople about the importance of preserving the delicate interplay of each season. It organized community gatherings where stories of its adventures were shared, captivating the listeners and encouraging them to appreciate and safeguard their environment.\\n\\nAccompanied by Ember, Nimbus, and newfound allies, Rietan began implementing small but impactful projects like reforestation and sustainable resource use within its community. Together, they planted trees that, like Rietan, aspired to grow tall and wise, providing shelter and sustenance to generations of Pokémon to come. These efforts slowly transformed the town into a haven where every resident, whether it walked, flew, or slithered, thrived in harmony with the natural shifts of the world around them.\\n\\nThe groves and meadows started to echo with the symphony of seasons, their orchestration forever shaped by Rietan’s vision. As the leaves turned once more, this time there was a touch of something new in the air—hope. The legacy of Rietan's journey lay not only in the myths it unraveled but in the actions it inspired, guiding its world towards a future where every fall whispered of renewal and every spring sang of resilience.\\n\\nIn time, Rietan became a respected elder within its community, embodying the very essence of autumn—change, wisdom, and the beauty of letting go to embrace new beginnings. The Pokémon’s journey had come full circle, imprinting on its world a story as enduring as the seasons themselves.\" type='TextMessage'\n",
      "source='plot_writer' models_usage=RequestUsage(prompt_tokens=4177, completion_tokens=348) metadata={} created_at=datetime.datetime(2025, 6, 19, 19, 10, 12, 155435, tzinfo=datetime.timezone.utc) content=\"The journey had awakened a powerful sense of purpose in Rietan, initiating its evolution from a mere observer of nature’s cycles to a protector and teacher of the wisdom it had gathered. Inspired by the harmonious vision of the Forest of Eterna, Rietan committed itself to educating other Pokémon and the townspeople about the importance of preserving the delicate interplay of each season. It organized community gatherings where stories of its adventures were shared, captivating the listeners and encouraging them to appreciate and safeguard their environment.\\n\\nAccompanied by Ember, Nimbus, and newfound allies, Rietan began implementing small but impactful projects like reforestation and sustainable resource use within its community. Together, they planted trees that, like Rietan, aspired to grow tall and wise, providing shelter and sustenance to generations of Pokémon to come. These efforts slowly transformed the town into a haven where every resident, whether it walked, flew, or slithered, thrived in harmony with the natural shifts of the world around them.\\n\\nThe groves and meadows started to echo with the symphony of seasons, their orchestration forever shaped by Rietan’s vision. As the leaves turned once more, this time there was a touch of something new in the air—hope. The legacy of Rietan's journey lay not only in the myths it unraveled but in the actions it inspired, guiding its world towards a future where every fall whispered of renewal and every spring sang of resilience.\\n\\nIn time, Rietan became a respected elder within its community, embodying the very essence of autumn—change, wisdom, and the beauty of letting go to embrace new beginnings. The Pokémon’s journey had come full circle, imprinting on its world a story as enduring as the seasons themselves.\" type='TextMessage'\n",
      "source='plot_writer' models_usage=RequestUsage(prompt_tokens=4529, completion_tokens=348) metadata={} created_at=datetime.datetime(2025, 6, 19, 19, 10, 14, 805481, tzinfo=datetime.timezone.utc) content=\"The journey had awakened a powerful sense of purpose in Rietan, initiating its evolution from a mere observer of nature’s cycles to a protector and teacher of the wisdom it had gathered. Inspired by the harmonious vision of the Forest of Eterna, Rietan committed itself to educating other Pokémon and the townspeople about the importance of preserving the delicate interplay of each season. It organized community gatherings where stories of its adventures were shared, captivating the listeners and encouraging them to appreciate and safeguard their environment.\\n\\nAccompanied by Ember, Nimbus, and newfound allies, Rietan began implementing small but impactful projects like reforestation and sustainable resource use within its community. Together, they planted trees that, like Rietan, aspired to grow tall and wise, providing shelter and sustenance to generations of Pokémon to come. These efforts slowly transformed the town into a haven where every resident, whether it walked, flew, or slithered, thrived in harmony with the natural shifts of the world around them.\\n\\nThe groves and meadows started to echo with the symphony of seasons, their orchestration forever shaped by Rietan’s vision. As the leaves turned once more, this time there was a touch of something new in the air—hope. The legacy of Rietan's journey lay not only in the myths it unraveled but in the actions it inspired, guiding its world towards a future where every fall whispered of renewal and every spring sang of resilience.\\n\\nIn time, Rietan became a respected elder within its community, embodying the very essence of autumn—change, wisdom, and the beauty of letting go to embrace new beginnings. The Pokémon’s journey had come full circle, imprinting on its world a story as enduring as the seasons themselves.\" type='TextMessage'\n",
      "source='plot_writer' models_usage=RequestUsage(prompt_tokens=4881, completion_tokens=348) metadata={} created_at=datetime.datetime(2025, 6, 19, 19, 10, 17, 693017, tzinfo=datetime.timezone.utc) content=\"The journey had awakened a powerful sense of purpose in Rietan, initiating its evolution from a mere observer of nature’s cycles to a protector and teacher of the wisdom it had gathered. Inspired by the harmonious vision of the Forest of Eterna, Rietan committed itself to educating other Pokémon and the townspeople about the importance of preserving the delicate interplay of each season. It organized community gatherings where stories of its adventures were shared, captivating the listeners and encouraging them to appreciate and safeguard their environment.\\n\\nAccompanied by Ember, Nimbus, and newfound allies, Rietan began implementing small but impactful projects like reforestation and sustainable resource use within its community. Together, they planted trees that, like Rietan, aspired to grow tall and wise, providing shelter and sustenance to generations of Pokémon to come. These efforts slowly transformed the town into a haven where every resident, whether it walked, flew, or slithered, thrived in harmony with the natural shifts of the world around them.\\n\\nThe groves and meadows started to echo with the symphony of seasons, their orchestration forever shaped by Rietan’s vision. As the leaves turned once more, this time there was a touch of something new in the air—hope. The legacy of Rietan's journey lay not only in the myths it unraveled but in the actions it inspired, guiding its world towards a future where every fall whispered of renewal and every spring sang of resilience.\\n\\nIn time, Rietan became a respected elder within its community, embodying the very essence of autumn—change, wisdom, and the beauty of letting go to embrace new beginnings. The Pokémon’s journey had come full circle, imprinting on its world a story as enduring as the seasons themselves.\" type='TextMessage'\n"
     ]
    }
   ],
   "source": [
    "from autogen_agentchat.base import TaskResult\n",
    "\n",
    "# When running inside a script, use a async main function and call it from `asyncio.run(...)`.\n",
    "await team3.reset()  # Reset the team for a new task.\n",
    "async for message in team3.run_stream(task=\"Write a short poem about the fall season.\"):  # type: ignore\n",
    "    if isinstance(message, TaskResult):\n",
    "        print(\"Stop Reason:\", message.stop_reason)\n",
    "    else:\n",
    "        print(message)"
   ]
  },
  {
   "cell_type": "code",
   "execution_count": null,
   "id": "412412f3",
   "metadata": {},
   "outputs": [],
   "source": []
  }
 ],
 "metadata": {
  "kernelspec": {
   "display_name": ".conda",
   "language": "python",
   "name": "python3"
  },
  "language_info": {
   "codemirror_mode": {
    "name": "ipython",
    "version": 3
   },
   "file_extension": ".py",
   "mimetype": "text/x-python",
   "name": "python",
   "nbconvert_exporter": "python",
   "pygments_lexer": "ipython3",
   "version": "3.11.13"
  }
 },
 "nbformat": 4,
 "nbformat_minor": 5
}
