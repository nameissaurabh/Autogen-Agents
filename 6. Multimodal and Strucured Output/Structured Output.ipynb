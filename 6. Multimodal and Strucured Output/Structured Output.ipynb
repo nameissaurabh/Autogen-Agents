{
 "cells": [
  {
   "cell_type": "markdown",
   "metadata": {},
   "source": [
    "### Getting Structured Output using pydantic"
   ]
  },
  {
   "cell_type": "markdown",
   "metadata": {},
   "source": [
    "input : \"Labrador is a breed of Dog\"  \n",
    "structured jason output:   \n",
    "      {  \n",
    "          'content' : 'Dog',  \n",
    "          'species' : 'Labra'  \n",
    "      }  "
   ]
  },
  {
   "cell_type": "code",
   "execution_count": null,
   "metadata": {},
   "outputs": [],
   "source": [
    "#import necessary libraries\n",
    "import asyncio\n",
    "from autogen_agentchat.agents import AssistantAgent\n",
    "from autogen_ext.models.openai import OpenAIChatCompletionClient\n",
    "from autogen_agentchat.messages import TextMessage\n",
    "from pydantic import BaseModel\n",
    "from dotenv import load_dotenv\n",
    "import os\n",
    "\n",
    "load_dotenv()\n",
    "api_key = os.getenv('GEMINI_API_KEY')\n"
   ]
  },
  {
   "cell_type": "code",
   "execution_count": 2,
   "metadata": {},
   "outputs": [],
   "source": [
    "# Define the structured output model using pydantic\n",
    "from pydantic import BaseModel\n",
    "\n",
    "class PlanetInfo(BaseModel):\n",
    "    name: str\n",
    "    color: str\n",
    "    distance_miles: int"
   ]
  },
  {
   "cell_type": "code",
   "execution_count": 4,
   "metadata": {},
   "outputs": [],
   "source": [
    "# define model client with strctured defined output\n",
    "model_client = OpenAIChatCompletionClient(\n",
    "    model = 'gemini-2.0-flash',\n",
    "    api_key = api_key,\n",
    "    response_format = PlanetInfo\n",
    "    )"
   ]
  },
  {
   "cell_type": "code",
   "execution_count": 8,
   "metadata": {},
   "outputs": [],
   "source": [
    "# without structured output\n",
    "unstructured_model_client = OpenAIChatCompletionClient(\n",
    "    model = 'gemini-2.0-flash',\n",
    "    api_key = api_key,\n",
    "    # response_format=PlanetInfo\n",
    "    )"
   ]
  },
  {
   "cell_type": "code",
   "execution_count": 9,
   "metadata": {},
   "outputs": [],
   "source": [
    "agent = AssistantAgent(\n",
    "    name = 'planet_agent',\n",
    "    model_client = unstructured_model_client,\n",
    "    system_message = \"You are a helpful assistant that provides information about planets. in the structure JSON\" \\\n",
    "    \"{ name :str\" \\\n",
    "    \"age : int\" \\\n",
    "    \"}\"\n",
    ")"
   ]
  },
  {
   "cell_type": "code",
   "execution_count": 10,
   "metadata": {},
   "outputs": [
    {
     "name": "stdout",
     "output_type": "stream",
     "text": [
      "```json\n",
      "{\n",
      "\"name\": \"Mars\",\n",
      "\"average_temperature_celsius\": -63\n",
      "}\n",
      "```\n",
      "\n"
     ]
    }
   ],
   "source": [
    "async def test_structured_output():\n",
    "    task = TextMessage(content = \"Please provide information about Mars.\", source = 'User')\n",
    "    result = await agent.run(task = task)\n",
    "    structured_response = result.messages[-1].content\n",
    "    print(structured_response)\n",
    "\n",
    "await test_structured_output()"
   ]
  },
  {
   "cell_type": "code",
   "execution_count": 11,
   "metadata": {},
   "outputs": [],
   "source": [
    "agent = AssistantAgent(\n",
    "    name = 'planet_agent',\n",
    "    model_client = model_client,\n",
    "    system_message = \"You are a helpful assistant that provides information about planets. in the structure JSON\"\n",
    ")"
   ]
  },
  {
   "cell_type": "code",
   "execution_count": 12,
   "metadata": {},
   "outputs": [
    {
     "name": "stdout",
     "output_type": "stream",
     "text": [
      "{\n",
      "  \"name\": \"Mars\",\n",
      "  \"color\": \"Red\",\n",
      "  \"distance_miles\": 140000000\n",
      "}\n"
     ]
    }
   ],
   "source": [
    "async def test_structured_output():\n",
    "    task = TextMessage(content = \"Please provide information about Mars.\",source='User')\n",
    "    result = await agent.run(task=task)\n",
    "    structured_response = result.messages[-1].content\n",
    "    print(structured_response)\n",
    "\n",
    "resultJson = await test_structured_output()"
   ]
  }
 ],
 "metadata": {
  "kernelspec": {
   "display_name": ".conda",
   "language": "python",
   "name": "python3"
  },
  "language_info": {
   "codemirror_mode": {
    "name": "ipython",
    "version": 3
   },
   "file_extension": ".py",
   "mimetype": "text/x-python",
   "name": "python",
   "nbconvert_exporter": "python",
   "pygments_lexer": "ipython3",
   "version": "3.11.13"
  }
 },
 "nbformat": 4,
 "nbformat_minor": 2
}
