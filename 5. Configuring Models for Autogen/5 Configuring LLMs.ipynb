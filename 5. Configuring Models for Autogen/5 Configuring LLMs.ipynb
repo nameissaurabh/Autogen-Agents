{
 "cells": [
  {
   "cell_type": "markdown",
   "metadata": {},
   "source": [
    "# Configuring LLMs in AutoGen v0.4+\n",
    "Starting with OpenAI’s GPT-4.  "
   ]
  },
  {
   "cell_type": "markdown",
   "metadata": {},
   "source": [
    "https://microsoft.github.io/autogen/stable/user-guide/agentchat-user-guide/tutorial/models.html"
   ]
  },
  {
   "cell_type": "code",
   "execution_count": null,
   "metadata": {},
   "outputs": [],
   "source": [
    "# Fill the Chat GPT / OpenAI code here\n",
    "from autogen_agentchat.agents import AssistantAgent\n",
    "from autogen_ext.models.openai import OpenAIChatCompletionClient\n",
    "from autogen_agentchat.messages import TextMessage\n",
    "from dotenv import load_dotenv\n",
    "import os\n",
    "\n",
    "load_dotenv()\n",
    "api_key = os.getenv('OPENAI_API_KEY')\n",
    "model_client = OpenAIChatCompletionClient(model='gpt-4o', api_key=api_key)"
   ]
  },
  {
   "cell_type": "markdown",
   "metadata": {},
   "source": [
    "## Gemini"
   ]
  },
  {
   "cell_type": "code",
   "execution_count": null,
   "metadata": {},
   "outputs": [],
   "source": [
    "from autogen_agentchat.agents import AssistantAgent\n",
    "from autogen_ext.models.openai import OpenAIChatCompletionClient\n",
    "from dotenv import load_dotenv\n",
    "import os\n",
    "\n",
    "load_dotenv()\n",
    "api_key = os.getenv('GEMINI_KEY')"
   ]
  },
  {
   "cell_type": "code",
   "execution_count": null,
   "metadata": {},
   "outputs": [],
   "source": [
    "api_key"
   ]
  },
  {
   "cell_type": "code",
   "execution_count": null,
   "metadata": {},
   "outputs": [],
   "source": [
    "from autogen_core.models import UserMessage\n",
    "from autogen_ext.models.openai import OpenAIChatCompletionClient\n",
    "\n",
    "model_client = OpenAIChatCompletionClient(\n",
    "    model=\"gemini-1.5-flash-8b\",\n",
    "    api_key=api_key,\n",
    ")\n",
    "\n",
    "response = await model_client.create([UserMessage(content=\"Who are you?\", source=\"user\")])\n",
    "print(response.content)\n"
   ]
  },
  {
   "cell_type": "code",
   "execution_count": null,
   "metadata": {},
   "outputs": [],
   "source": []
  },
  {
   "cell_type": "code",
   "execution_count": 1,
   "metadata": {},
   "outputs": [
    {
     "name": "stdout",
     "output_type": "stream",
     "text": [
      "finish_reason='stop' content='The capital of France is Paris.' usage=RequestUsage(prompt_tokens=32, completion_tokens=8) cached=False logprobs=None thought=None\n"
     ]
    }
   ],
   "source": [
    "from autogen_core.models import UserMessage\n",
    "from autogen_ext.models.ollama import OllamaChatCompletionClient\n",
    "\n",
    "# Assuming your Ollama server is running locally on port 11434.\n",
    "ollama_model_client = OllamaChatCompletionClient(model=\"llama3.2\")\n",
    "\n",
    "response = await ollama_model_client.create([UserMessage(content=\"What is the capital of France?\", source=\"user\")])\n",
    "print(response)\n",
    "await ollama_model_client.close()\n"
   ]
  },
  {
   "cell_type": "markdown",
   "metadata": {},
   "source": [
    "finish_reason='stop' content='The capital of France is Paris.' usage=RequestUsage(prompt_tokens=32, completion_tokens=8) cached=False logprobs=None thought=None"
   ]
  },
  {
   "cell_type": "code",
   "execution_count": 3,
   "metadata": {},
   "outputs": [],
   "source": [
    "from autogen_agentchat.agents import AssistantAgent\n",
    "\n",
    "agent = AssistantAgent(\n",
    "    name='assistant',\n",
    "    model_client=ollama_model_client,\n",
    "    system_message='You are a helpful assistant',\n",
    ")"
   ]
  },
  {
   "cell_type": "code",
   "execution_count": 4,
   "metadata": {},
   "outputs": [
    {
     "name": "stdout",
     "output_type": "stream",
     "text": [
      "Labrador Retrievers! Here's some interesting information about one of the most popular breeds in the world:\n",
      "\n",
      "**Origin**\n",
      "-----------------\n",
      "\n",
      "The Labrador Retriever originated in Newfoundland, Canada, where they were bred to assist fishermen and retrieve fish. The breed was developed by crossing local dogs with other breeds, including the St. John's Water Dog.\n",
      "\n",
      "**Physical Characteristics**\n",
      "-----------------------------\n",
      "\n",
      "* **Size:** Males: 22.5-24.5 inches (57-62 cm) tall at the shoulder; females: 21.5-23.5 inches (55-60 cm)\n",
      "* **Weight:** 55-80 pounds (25-36 kg)\n",
      "* **Coat:** Short, dense, and smooth\n",
      "* **Color:** Black, yellow, or chocolate\n",
      "\n",
      "**Personality**\n",
      "-----------------\n",
      "\n",
      "Labrador Retrievers are known for their friendly, outgoing, and energetic personalities. They:\n",
      "\n",
      "* Are highly social and love people\n",
      "* Are excellent family dogs and are often used as therapy dogs\n",
      "* Are highly intelligent and trainable\n",
      "* Love to please their owners and enjoy pleasing them with good behavior\n",
      "\n",
      "**Health**\n",
      "-------------\n",
      "\n",
      "Labrador Retrievers are generally a healthy breed, but like all breeds, they can be prone to certain health issues:\n",
      "\n",
      "* Hip dysplasia\n",
      "* Elbow dysplasia\n",
      "* Obesity\n",
      "* Eye problems (e.g., cataracts, progressive retinal atrophy)\n",
      "* Allergies\n",
      "\n",
      "**Grooming**\n",
      "-------------\n",
      "\n",
      "Labrador Retrievers have a short, dense coat that requires minimal grooming. They need to be brushed occasionally to remove loose hair and distribute skin oils.\n",
      "\n",
      "**Exercise Needs**\n",
      "-------------------\n",
      "\n",
      "Labrador Retrievers are high-energy dogs that require regular exercise to stay happy and healthy:\n",
      "\n",
      "* Daily walks (at least 30 minutes)\n",
      "* Playtime (e.g., fetch, running, swimming)\n",
      "* Mental stimulation (e.g., obedience training, puzzle toys)\n",
      "\n",
      "**Fun Facts**\n",
      "----------------\n",
      "\n",
      "* Labradors are one of the most popular breeds in the world, according to the American Kennel Club.\n",
      "* They were originally bred as hunting dogs, but today they're often used as service dogs, therapy dogs, and family pets.\n",
      "* The breed's name comes from their country of origin (Labrador) and their original purpose (retrieving fish).\n",
      "\n",
      "I hope you found this information helpful! Do you have any specific questions about Labrador Retrievers?\n"
     ]
    }
   ],
   "source": [
    "result = await agent.run(task='Find information about Labrador Retriever')\n",
    "print(result.messages[-1].content)"
   ]
  },
  {
   "cell_type": "code",
   "execution_count": null,
   "metadata": {},
   "outputs": [],
   "source": []
  }
 ],
 "metadata": {
  "kernelspec": {
   "display_name": "autogen-crash-course",
   "language": "python",
   "name": "python3"
  },
  "language_info": {
   "codemirror_mode": {
    "name": "ipython",
    "version": 3
   },
   "file_extension": ".py",
   "mimetype": "text/x-python",
   "name": "python",
   "nbconvert_exporter": "python",
   "pygments_lexer": "ipython3",
   "version": "3.12.9"
  }
 },
 "nbformat": 4,
 "nbformat_minor": 2
}
