{
 "cells": [
  {
   "cell_type": "markdown",
   "id": "56ac296d",
   "metadata": {},
   "source": [
    "# Using Autogen with OpenRouter API ( Free API Key :) "
   ]
  },
  {
   "cell_type": "markdown",
   "id": "395be4eb",
   "metadata": {},
   "source": [
    "1. OpenAI\n",
    "2. Local ollama setup (llama or mistral)\n"
   ]
  },
  {
   "cell_type": "code",
   "execution_count": 1,
   "id": "68c71357",
   "metadata": {},
   "outputs": [
    {
     "data": {
      "text/plain": [
       "True"
      ]
     },
     "execution_count": 1,
     "metadata": {},
     "output_type": "execute_result"
    }
   ],
   "source": [
    "import asyncio\n",
    "from autogen_agentchat.agents import AssistantAgent\n",
    "from autogen_agentchat.teams import SelectorGroupChat\n",
    "from autogen_ext.models.openai import OpenAIChatCompletionClient\n",
    "from autogen_agentchat.conditions import TextMentionTermination\n",
    "from dotenv import load_dotenv\n",
    "import os\n",
    "\n",
    "# Load API key\n",
    "load_dotenv()"
   ]
  },
  {
   "cell_type": "code",
   "execution_count": 2,
   "id": "db229e0a",
   "metadata": {},
   "outputs": [],
   "source": [
    "open_router_api_key ='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' \n"
   ]
  },
  {
   "cell_type": "code",
   "execution_count": 3,
   "id": "11abffcf",
   "metadata": {},
   "outputs": [
    {
     "name": "stderr",
     "output_type": "stream",
     "text": [
      "/Users/mayank/Youtube/Agentic AI/Autogen Crash Course/autogen-crash-course/lib/python3.12/site-packages/autogen_ext/models/openai/_openai_client.py:413: UserWarning: Missing required field 'structured_output' in ModelInfo. This field will be required in a future version of AutoGen.\n",
      "  validate_model_info(self._model_info)\n"
     ]
    }
   ],
   "source": [
    "open_router_model_client =  OpenAIChatCompletionClient(\n",
    "    base_url=\"https://openrouter.ai/api/v1\",\n",
    "    model=\"deepseek/deepseek-r1-0528:free\",\n",
    "    api_key = open_router_api_key,\n",
    "    model_info={\n",
    "        \"family\":'deepseek',\n",
    "        \"vision\" :True,\n",
    "        \"function_calling\":True,\n",
    "        \"json_output\": False\n",
    "    }\n",
    ")"
   ]
  },
  {
   "cell_type": "code",
   "execution_count": 4,
   "id": "522b14cf",
   "metadata": {},
   "outputs": [],
   "source": [
    "assistant_agent1 = AssistantAgent(\n",
    "    name = 'helpful_agent',\n",
    "    model_client = open_router_model_client,\n",
    "    system_message='You are a helpful assistant Agent'\n",
    ")"
   ]
  },
  {
   "cell_type": "code",
   "execution_count": 5,
   "id": "4b83b8aa",
   "metadata": {},
   "outputs": [
    {
     "name": "stdout",
     "output_type": "stream",
     "text": [
      "[TextMessage(source='user', models_usage=None, metadata={}, created_at=datetime.datetime(2025, 6, 19, 18, 15, 22, 785223, tzinfo=datetime.timezone.utc), content='Hey how are you today ?', type='TextMessage'), TextMessage(source='helpful_agent', models_usage=RequestUsage(prompt_tokens=18, completion_tokens=246), metadata={}, created_at=datetime.datetime(2025, 6, 19, 18, 15, 31, 725855, tzinfo=datetime.timezone.utc), content=\"I'm doing great, thanks for asking! 😊 Since I'm an AI, I don't have feelings, but I'm always ready to help you. How about you—how's your day going? What's on your mind?\", type='TextMessage')]\n"
     ]
    }
   ],
   "source": [
    "result = await assistant_agent1.run(task = 'Hey how are you today ?')\n",
    "print(result.messages)"
   ]
  },
  {
   "cell_type": "code",
   "execution_count": 6,
   "id": "c3cfb540",
   "metadata": {},
   "outputs": [
    {
     "data": {
      "text/plain": [
       "\"I'm doing great, thanks for asking! 😊 Since I'm an AI, I don't have feelings, but I'm always ready to help you. How about you—how's your day going? What's on your mind?\""
      ]
     },
     "execution_count": 6,
     "metadata": {},
     "output_type": "execute_result"
    }
   ],
   "source": [
    "result.messages[-1].content"
   ]
  },
  {
   "cell_type": "code",
   "execution_count": 7,
   "id": "ba0008c7",
   "metadata": {},
   "outputs": [
    {
     "name": "stdout",
     "output_type": "stream",
     "text": [
      "[TextMessage(source='user', models_usage=None, metadata={}, created_at=datetime.datetime(2025, 6, 19, 18, 15, 57, 494267, tzinfo=datetime.timezone.utc), content='Who are you ? and who trained you ?', type='TextMessage'), TextMessage(source='helpful_agent', models_usage=RequestUsage(prompt_tokens=78, completion_tokens=447), metadata={}, created_at=datetime.datetime(2025, 6, 19, 18, 16, 16, 566867, tzinfo=datetime.timezone.utc), content=\"Great questions! 😊  \\n\\nI'm **DeepSeek-R1**, your friendly AI assistant, built to help with anything from answering questions and solving problems to tutoring, writing, researching, and having fun conversations. I was developed by **DeepSeek（深度求索）**, a leading AI company dedicated to advancing open-source and powerful artificial intelligence.  \\n\\n### 🤖 Who trained me?\\n- **Pre-training**: I was trained on an enormous, diverse collection of publicly available text — books, articles, websites, and code — to learn language understanding, reasoning, and world knowledge.\\n- **Fine-tuning**: Engineers further trained me using supervised and reinforcement learning techniques to make responses helpful, accurate, and ethical.\\n\\n**Important note:**  \\nI’m designed to be knowledgeable and harmless, but I'm **not perfect** — I can make mistakes in complex or ambiguous situations. I also **don't have access to the internet** beyond what was in my training data *up to July 2024*. And while I can chat about many topics, I'm **not a substitute** for professionals like doctors, lawyers, or therapists.\\n\\nWant to know more? Ask away! 💬😄 What else can I help with today?\", type='TextMessage')]\n"
     ]
    }
   ],
   "source": [
    "result = await assistant_agent1.run(task = 'Who are you ? and who trained you ?')\n",
    "print(result.messages)"
   ]
  },
  {
   "cell_type": "code",
   "execution_count": 8,
   "id": "b529d62c",
   "metadata": {},
   "outputs": [
    {
     "data": {
      "text/plain": [
       "\"Great questions! 😊  \\n\\nI'm **DeepSeek-R1**, your friendly AI assistant, built to help with anything from answering questions and solving problems to tutoring, writing, researching, and having fun conversations. I was developed by **DeepSeek（深度求索）**, a leading AI company dedicated to advancing open-source and powerful artificial intelligence.  \\n\\n### 🤖 Who trained me?\\n- **Pre-training**: I was trained on an enormous, diverse collection of publicly available text — books, articles, websites, and code — to learn language understanding, reasoning, and world knowledge.\\n- **Fine-tuning**: Engineers further trained me using supervised and reinforcement learning techniques to make responses helpful, accurate, and ethical.\\n\\n**Important note:**  \\nI’m designed to be knowledgeable and harmless, but I'm **not perfect** — I can make mistakes in complex or ambiguous situations. I also **don't have access to the internet** beyond what was in my training data *up to July 2024*. And while I can chat about many topics, I'm **not a substitute** for professionals like doctors, lawyers, or therapists.\\n\\nWant to know more? Ask away! 💬😄 What else can I help with today?\""
      ]
     },
     "execution_count": 8,
     "metadata": {},
     "output_type": "execute_result"
    }
   ],
   "source": [
    "result.messages[-1].content"
   ]
  },
  {
   "cell_type": "code",
   "execution_count": null,
   "id": "212b724e",
   "metadata": {},
   "outputs": [],
   "source": []
  }
 ],
 "metadata": {
  "kernelspec": {
   "display_name": "autogen-crash-course",
   "language": "python",
   "name": "python3"
  },
  "language_info": {
   "codemirror_mode": {
    "name": "ipython",
    "version": 3
   },
   "file_extension": ".py",
   "mimetype": "text/x-python",
   "name": "python",
   "nbconvert_exporter": "python",
   "pygments_lexer": "ipython3",
   "version": "3.12.9"
  }
 },
 "nbformat": 4,
 "nbformat_minor": 5
}
