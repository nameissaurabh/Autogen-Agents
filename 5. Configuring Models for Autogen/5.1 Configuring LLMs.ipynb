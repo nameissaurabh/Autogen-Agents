{
 "cells": [
  {
   "cell_type": "markdown",
   "metadata": {},
   "source": [
    "# Configuring LLMs in AutoGen v0.4+\n",
    "### 1. Google's Gemini"
   ]
  },
  {
   "cell_type": "markdown",
   "metadata": {},
   "source": [
    "https://microsoft.github.io/autogen/stable/user-guide/agentchat-user-guide/tutorial/models.html"
   ]
  },
  {
   "cell_type": "code",
   "execution_count": 1,
   "metadata": {},
   "outputs": [],
   "source": [
    "# imports and get key\n",
    "from autogen_agentchat.agents import AssistantAgent\n",
    "from autogen_ext.models.openai import OpenAIChatCompletionClient\n",
    "from autogen_agentchat.messages import TextMessage\n",
    "from dotenv import load_dotenv\n",
    "import os"
   ]
  },
  {
   "cell_type": "code",
   "execution_count": 2,
   "metadata": {},
   "outputs": [],
   "source": [
    "load_dotenv()\n",
    "api_key = os.getenv('GEMINI_API_KEY')\n",
    "model_client = OpenAIChatCompletionClient(model='gemini-2.0-flash',\n",
    "                                          api_key=api_key)"
   ]
  },
  {
   "cell_type": "code",
   "execution_count": 3,
   "metadata": {},
   "outputs": [
    {
     "name": "stdout",
     "output_type": "stream",
     "text": [
      "I am a large language model, trained by Google.\n",
      "\n"
     ]
    }
   ],
   "source": [
    "from autogen_core.models import UserMessage\n",
    "from autogen_ext.models.openai import OpenAIChatCompletionClient\n",
    "\n",
    "model_client = OpenAIChatCompletionClient(\n",
    "    model=\"gemini-1.5-flash-8b\",\n",
    "    api_key=api_key,\n",
    ")\n",
    "\n",
    "response = await model_client.create([UserMessage(content=\"Who are you?\", source=\"user\")])\n",
    "print(response.content)\n"
   ]
  },
  {
   "cell_type": "markdown",
   "metadata": {},
   "source": [
    "Same can be done as above for the any model which can be loaded with API's, currently `OpenAIChatCompletionClient` supports all these model togetherly"
   ]
  },
  {
   "cell_type": "markdown",
   "metadata": {},
   "source": [
    "### 2. Ollama"
   ]
  },
  {
   "cell_type": "code",
   "execution_count": 4,
   "metadata": {},
   "outputs": [
    {
     "name": "stdout",
     "output_type": "stream",
     "text": [
      "finish_reason='stop' content='The capital of France is Paris.' usage=RequestUsage(prompt_tokens=17, completion_tokens=8) cached=False logprobs=None thought=None\n"
     ]
    }
   ],
   "source": [
    "from autogen_core.models import UserMessage\n",
    "from autogen_ext.models.ollama import OllamaChatCompletionClient\n",
    "\n",
    "# Assuming your Ollama server is running locally on port 11434.\n",
    "ollama_model_client = OllamaChatCompletionClient(model=\"llama3.1:8b\",\n",
    "                                                 base_url=\"http://localhost:11434\")\n",
    "\n",
    "response = await ollama_model_client.create(\n",
    "                              [UserMessage(content=\"What is the capital of France?\", \n",
    "                                           source=\"user\")])\n",
    "print(response)\n",
    "await ollama_model_client.close()"
   ]
  },
  {
   "cell_type": "markdown",
   "metadata": {},
   "source": [
    "finish_reason='stop' content='The capital of France is Paris.' usage=RequestUsage(prompt_tokens=32, completion_tokens=8) cached=False logprobs=None thought=None"
   ]
  },
  {
   "cell_type": "code",
   "execution_count": 6,
   "metadata": {},
   "outputs": [],
   "source": [
    "from autogen_agentchat.agents import AssistantAgent\n",
    "\n",
    "agent = AssistantAgent(\n",
    "    name = 'assistant',\n",
    "    model_client = ollama_model_client,\n",
    "    system_message = 'You are a helpful assistant',\n",
    ")"
   ]
  },
  {
   "cell_type": "code",
   "execution_count": 7,
   "metadata": {},
   "outputs": [
    {
     "name": "stdout",
     "output_type": "stream",
     "text": [
      "The Labrador Retriever!\n",
      "\n",
      "Here's some interesting and useful information about this popular breed:\n",
      "\n",
      "**Origin**\n",
      "\n",
      "Labrador Retrievers originated in the province of Newfoundland, Canada, in the 18th century. They were bred to assist fishermen by retrieving fish and other items from the water.\n",
      "\n",
      "**History**\n",
      "\n",
      "The breed was first recognized by the American Kennel Club (AKC) in 1917. They quickly became popular as a family pet due to their friendly, outgoing personalities and high intelligence.\n",
      "\n",
      "**Physical Characteristics**\n",
      "\n",
      "* Weight: Males: 65-80 pounds (29-36 kg), Females: 55-70 pounds (25-32 kg)\n",
      "* Height: Males: 22.5-24.5 inches (57-62 cm), Females: 21.5-23.5 inches (55-60 cm)\n",
      "* Coat: Short, smooth, and dense\n",
      "* Color: Black, Yellow, or Chocolate\n",
      "\n",
      "**Personality**\n",
      "\n",
      "Labradors are known for their:\n",
      "\n",
      "1. **Friendly Temperament**: They are often described as \"velcro dogs\" because they love people and enjoy being around them.\n",
      "2. **Intelligence**: They are highly trainable and one of the top breeds used as service dogs, search and rescue dogs, and therapy dogs.\n",
      "3. **Energy Level**: Labradors are an energetic breed that requires regular exercise to stay happy and healthy.\n",
      "4. **Loyalty**: They are loyal companions and make great family pets.\n",
      "\n",
      "**Health**\n",
      "\n",
      "Labrador Retrievers can be prone to certain health issues, including:\n",
      "\n",
      "1. **Hip Dysplasia**: A genetic condition that affects the hip joint\n",
      "2. **Obesity**: Labradors can easily become overweight if not fed a balanced diet and exercised regularly\n",
      "3. **Eye Problems**: They can be prone to eye issues such as cataracts and progressive retinal atrophy\n",
      "4. **Cancer**: Some Labradors are at risk of developing certain types of cancer, including osteosarcoma and lymphoma\n",
      "\n",
      "**Grooming**\n",
      "\n",
      "Labrador Retrievers have a short coat that requires minimal grooming. They should be brushed regularly to remove loose hair and distribute skin oils.\n",
      "\n",
      "**Exercise Needs**\n",
      "\n",
      "Labradors need regular exercise to stay happy and healthy. This can include:\n",
      "\n",
      "1. **Daily Walks**: 30-minute walks each day\n",
      "2. **Playtime**: Play fetch, frisbee, or engage in other high-energy activities with your Labrador\n",
      "3. **Swimming**: Labradors love water and swimming is a great way to exercise them\n",
      "\n",
      "**Training**\n",
      "\n",
      "Labrador Retrievers are highly trainable due to their intelligence and eagerness to please. Positive reinforcement training methods work well for this breed.\n",
      "\n",
      "I hope you found this information helpful! Do you have any specific questions about Labrador Retrievers?\n"
     ]
    }
   ],
   "source": [
    "result = await agent.run(task = 'Find information about Labrador Retriever')\n",
    "print(result.messages[-1].content)"
   ]
  }
 ],
 "metadata": {
  "kernelspec": {
   "display_name": ".conda",
   "language": "python",
   "name": "python3"
  },
  "language_info": {
   "codemirror_mode": {
    "name": "ipython",
    "version": 3
   },
   "file_extension": ".py",
   "mimetype": "text/x-python",
   "name": "python",
   "nbconvert_exporter": "python",
   "pygments_lexer": "ipython3",
   "version": "3.11.13"
  }
 },
 "nbformat": 4,
 "nbformat_minor": 2
}
